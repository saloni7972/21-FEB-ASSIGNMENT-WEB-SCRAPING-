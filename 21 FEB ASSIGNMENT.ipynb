{
 "cells": [
  {
   "cell_type": "markdown",
   "id": "d45ddfa8-fc65-486f-b207-7e323615d11b",
   "metadata": {},
   "source": [
    "# WEB SCRAPING"
   ]
  },
  {
   "cell_type": "markdown",
   "id": "1cc90275-65ea-440d-809a-ecbc453a0ad3",
   "metadata": {},
   "source": [
    "Q1. What is Web Scraping? Why is it Used? Give three areas where Web Scraping is used to get data."
   ]
  },
  {
   "cell_type": "markdown",
   "id": "2cc0223d-7c8e-41d4-9719-f1da23ccdb9a",
   "metadata": {},
   "source": [
    "ANSWER==\n",
    "Web scraping is the process of collecting structured web data in an automated manner. It's also widely known as web data extraction or web data scraping. Some of the main use cases of web scraping include price monitoring, price intelligence, news monitoring, lead generation, and market research among many others."
   ]
  },
  {
   "cell_type": "markdown",
   "id": "90affa47-8f9d-41ba-a39d-66ff2d0be0da",
   "metadata": {},
   "source": [
    "Q2. What are the different methods used for Web Scraping?"
   ]
  },
  {
   "cell_type": "markdown",
   "id": "20d87ae3-a356-41d5-a24d-e4319d457f7e",
   "metadata": {},
   "source": [
    "ANSWER==\n",
    "1)Web Scraping Techniques\n",
    "2)Human copy-and-paste.\n",
    "3)Text pattern matching.\n",
    "4)HTTP programming.\n",
    "5)HTML parsing."
   ]
  },
  {
   "cell_type": "markdown",
   "id": "d0cb8e74-fc40-4987-acd8-60379ef28a01",
   "metadata": {},
   "source": [
    "Q3. What is Beautiful Soup? Why is it used?"
   ]
  },
  {
   "cell_type": "markdown",
   "id": "535e5c4a-e733-4ff8-b2fa-09120a1a64b6",
   "metadata": {},
   "source": [
    "ANSWER==\n",
    "Beautiful Soup is a Python library that makes it easy to scrape information from web pages. It sits atop an HTML or XML parser and provides Pythonic idioms for iterating, searching, and modifying the parse tree.\n",
    "The Beautiful Soup library helps with isolating titles and links from webpages. It can extract all of the text from HTML tags, and alter the HTML,in the document with which we’re working."
   ]
  },
  {
   "cell_type": "markdown",
   "id": "d9a89d98-7698-4f65-8893-a74eccf9945e",
   "metadata": {},
   "source": [
    "Q4. Why is flask used in this Web Scraping project?"
   ]
  },
  {
   "cell_type": "markdown",
   "id": "f750577d-c757-4c63-bd7a-808605a25775",
   "metadata": {},
   "source": [
    "ANSWER==\n",
    "Flask is a lightweight framework to build websites. We'll use this to parse our collected data and display it as HTML in a new HTML file. The requests module allows us to send http requests to the website we want to scrape."
   ]
  },
  {
   "cell_type": "markdown",
   "id": "637da0a0-60e5-4bc7-ba44-cdb25683abc0",
   "metadata": {},
   "source": [
    "Q5. Write the names of AWS services used in this project. Also, explain the use of each service."
   ]
  },
  {
   "cell_type": "markdown",
   "id": "5a7a51c3-034b-47ea-9baa-66179a592e81",
   "metadata": {},
   "source": [
    "ANSWER==\n",
    "AWS Cloud Products\n",
    "Compute,Storage,Database,Networking & Content Delivery,Analytics,Machine Learning,Security, Identity, & Compliance"
   ]
  }
 ],
 "metadata": {
  "kernelspec": {
   "display_name": "Python 3 (ipykernel)",
   "language": "python",
   "name": "python3"
  },
  "language_info": {
   "codemirror_mode": {
    "name": "ipython",
    "version": 3
   },
   "file_extension": ".py",
   "mimetype": "text/x-python",
   "name": "python",
   "nbconvert_exporter": "python",
   "pygments_lexer": "ipython3",
   "version": "3.10.8"
  }
 },
 "nbformat": 4,
 "nbformat_minor": 5
}
